{
 "cells": [
  {
   "cell_type": "markdown",
   "id": "8a76a805-e5c4-4171-9beb-2e591bde3b73",
   "metadata": {},
   "source": [
    "# Qn 1"
   ]
  },
  {
   "cell_type": "code",
   "execution_count": 7,
   "id": "5659fe95-3e03-491e-972c-4ce61c7d5ce8",
   "metadata": {},
   "outputs": [
    {
     "name": "stdin",
     "output_type": "stream",
     "text": [
      "enter your percentage 78\n"
     ]
    },
    {
     "name": "stdout",
     "output_type": "stream",
     "text": [
      "grade C\n"
     ]
    }
   ],
   "source": [
    "percentage=int(input(\"enter your percentage\")) \n",
    "if percentage >=90:\n",
    "    print(\"Grade A\")\n",
    "if percentage >=80 and percentage <90:\n",
    "     print(\"grade B\")\n",
    "if percentage >=60 and percentage <80:\n",
    "     print(\"grade C\")\n",
    "        \n",
    "else: \n",
    "     print(\"grade D\")\n",
    "        \n",
    "    \n",
    "    "
   ]
  },
  {
   "cell_type": "markdown",
   "id": "fe017b88-05e1-44c8-b857-ac5c378b7894",
   "metadata": {},
   "source": [
    "# Qn 2"
   ]
  },
  {
   "cell_type": "code",
   "execution_count": 8,
   "id": "c6586c2e-5930-4730-b396-6d918500ceb6",
   "metadata": {},
   "outputs": [
    {
     "name": "stdin",
     "output_type": "stream",
     "text": [
      "cost of the bike 80000\n"
     ]
    },
    {
     "name": "stdout",
     "output_type": "stream",
     "text": [
      "10% tax\n"
     ]
    }
   ],
   "source": [
    "cost=int(input(\"cost of the bike\"))\n",
    "\n",
    "if cost >100000:\n",
    "    print(\"15% tax\")\n",
    "if cost >50000 and cost<=100000:\n",
    "    print(\"10% tax\")\n",
    "else:\n",
    "    print (\"5% tax\")"
   ]
  },
  {
   "cell_type": "markdown",
   "id": "b4195a62-96d7-435c-886e-b4ad994ed183",
   "metadata": {},
   "source": [
    "# Qn 3"
   ]
  },
  {
   "cell_type": "code",
   "execution_count": 3,
   "id": "5efd3f95-6460-402c-8bb5-495b02cf0bb5",
   "metadata": {},
   "outputs": [
    {
     "name": "stdin",
     "output_type": "stream",
     "text": [
      "enter the city Agra\n"
     ]
    },
    {
     "name": "stdout",
     "output_type": "stream",
     "text": [
      "Taj Mahal\n"
     ]
    }
   ],
   "source": [
    "city=input(\"enter the city\")\n",
    "if city==\"Delhi\":\n",
    "    print(\"Red Fort\")\n",
    "if city==\"Agra\":\n",
    "    print(\"Taj Mahal\")\n",
    "else:\n",
    "    city ==\"Jaipur\"\n",
    "    print(\"Raj Mahal\")"
   ]
  },
  {
   "cell_type": "markdown",
   "id": "d336ac21-6d6b-40d8-a828-d54f3832932f",
   "metadata": {},
   "source": [
    "# Qn 4"
   ]
  },
  {
   "cell_type": "code",
   "execution_count": null,
   "id": "ef53cfa7-b45b-4fce-b5ac-db82b6863053",
   "metadata": {},
   "outputs": [],
   "source": []
  },
  {
   "cell_type": "code",
   "execution_count": null,
   "id": "0a3a1220-87b2-4ad0-9db2-6392d237966c",
   "metadata": {},
   "outputs": [],
   "source": []
  },
  {
   "cell_type": "markdown",
   "id": "03c91e8b-be7f-4b77-b1a2-2bd67d46e093",
   "metadata": {},
   "source": [
    "# Qn 5"
   ]
  },
  {
   "cell_type": "code",
   "execution_count": null,
   "id": "463dc7e8-5926-4981-ac8c-b759e4f9f1b2",
   "metadata": {},
   "outputs": [],
   "source": [
    "\"\"\" While loop is used to repeat a specific block of code an unknown number of times ,untill a condition is met."
   ]
  },
  {
   "cell_type": "code",
   "execution_count": 1,
   "id": "540ccb67-d43d-4983-8188-f7e875787bfd",
   "metadata": {},
   "outputs": [
    {
     "name": "stdout",
     "output_type": "stream",
     "text": [
      "1\n",
      "2\n",
      "3\n",
      "4\n",
      "5\n",
      "6\n",
      "7\n",
      "8\n",
      "9\n",
      "10\n"
     ]
    }
   ],
   "source": [
    "a=1\n",
    "while a<=10:\n",
    "    print(a)\n",
    "    a=a+1"
   ]
  },
  {
   "cell_type": "markdown",
   "id": "732bd5ec-f997-45e3-9343-6b5fac6020ac",
   "metadata": {},
   "source": [
    "# Qn 6"
   ]
  },
  {
   "cell_type": "code",
   "execution_count": 10,
   "id": "8b48884c-25b6-4735-a2a1-048d5a365527",
   "metadata": {},
   "outputs": [
    {
     "name": "stdout",
     "output_type": "stream",
     "text": [
      "#\n",
      "##\n",
      "###\n"
     ]
    }
   ],
   "source": [
    "n=3\n",
    "for i in range(0,n):\n",
    "    for j in range(0,i+1):\n",
    "        print (\"#\",end='')\n",
    "    print (\"\\r\")"
   ]
  },
  {
   "cell_type": "markdown",
   "id": "bfd6c3a3-c3a1-48e4-b30d-af7f4ac0eee7",
   "metadata": {},
   "source": [
    "# Qn 7"
   ]
  },
  {
   "cell_type": "code",
   "execution_count": 11,
   "id": "a4a9a73d-d92d-44d8-958d-85d913ea2b3e",
   "metadata": {},
   "outputs": [
    {
     "name": "stdout",
     "output_type": "stream",
     "text": [
      "10\n",
      "9\n",
      "8\n",
      "7\n",
      "6\n",
      "5\n",
      "4\n",
      "3\n",
      "2\n",
      "1\n"
     ]
    }
   ],
   "source": [
    "a=10\n",
    "while a>=1:\n",
    "    print(a)\n",
    "    a=a-1\n",
    "   "
   ]
  },
  {
   "cell_type": "markdown",
   "id": "c1595124-8714-4452-a0f7-f05b9f26165b",
   "metadata": {},
   "source": [
    "# Qn 8"
   ]
  },
  {
   "cell_type": "code",
   "execution_count": null,
   "id": "6b25afac-2c0a-42b6-becc-41fb08e4276c",
   "metadata": {},
   "outputs": [],
   "source": []
  }
 ],
 "metadata": {
  "kernelspec": {
   "display_name": "Python 3 (ipykernel)",
   "language": "python",
   "name": "python3"
  },
  "language_info": {
   "codemirror_mode": {
    "name": "ipython",
    "version": 3
   },
   "file_extension": ".py",
   "mimetype": "text/x-python",
   "name": "python",
   "nbconvert_exporter": "python",
   "pygments_lexer": "ipython3",
   "version": "3.10.8"
  }
 },
 "nbformat": 4,
 "nbformat_minor": 5
}
